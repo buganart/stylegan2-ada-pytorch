{
  "nbformat": 4,
  "nbformat_minor": 0,
  "metadata": {
    "colab": {
      "name": "stylegan2ada_generate.ipynb",
      "provenance": [],
      "collapsed_sections": [],
      "machine_shape": "hm",
      "include_colab_link": true
    },
    "kernelspec": {
      "display_name": "Python 3",
      "name": "python3"
    }
  },
  "cells": [
    {
      "cell_type": "markdown",
      "metadata": {
        "id": "view-in-github",
        "colab_type": "text"
      },
      "source": [
        "<a href=\"https://colab.research.google.com/github/buganart/stylegan2-ada-pytorch/blob/main/stylegan2ada_generate.ipynb\" target=\"_parent\"><img src=\"https://colab.research.google.com/assets/colab-badge.svg\" alt=\"Open In Colab\"/></a>"
      ]
    },
    {
      "cell_type": "code",
      "metadata": {
        "id": "jbp-CL5ijb4e",
        "cellView": "form"
      },
      "source": [
        "#@markdown Before starting please save the notebook in your drive by clicking on `File -> Save a copy in drive`"
      ],
      "execution_count": null,
      "outputs": []
    },
    {
      "cell_type": "code",
      "metadata": {
        "id": "XQ-pH7tyK9xW",
        "cellView": "form"
      },
      "source": [
        "#@markdown Check GPU, should be a Tesla V100\n",
        "!nvidia-smi -L\n",
        "import os\n",
        "print(f\"We have {os.cpu_count()} CPU cores.\")"
      ],
      "execution_count": null,
      "outputs": []
    },
    {
      "cell_type": "code",
      "metadata": {
        "id": "BJyxzcLOhgWY",
        "cellView": "form"
      },
      "source": [
        "#@markdown Mount google drive\n",
        "from google.colab import drive\n",
        "from google.colab import output\n",
        "drive.mount('/content/drive')\n",
        "\n",
        "from pathlib import Path\n",
        "if not Path(\"/content/drive/My Drive/IRCMS_GAN_collaborative_database\").exists():\n",
        "    raise RuntimeError(\n",
        "        \"Shortcut to our shared drive folder doesn't exits.\\n\\n\"\n",
        "        \"\\t1. Go to the google drive web UI\\n\"\n",
        "        \"\\t2. Right click shared folder IRCMS_GAN_collaborative_database and click \\\"Add shortcut to Drive\\\"\"\n",
        "    )\n",
        "\n",
        "def clear_on_success(msg=\"Ok!\"):\n",
        "    if _exit_code == 0:\n",
        "        output.clear()\n",
        "        print(msg)"
      ],
      "execution_count": null,
      "outputs": []
    },
    {
      "cell_type": "code",
      "metadata": {
        "cellView": "form",
        "id": "9-L3BlfGTfbJ"
      },
      "source": [
        "#@markdown Install wandb and log in\n",
        "%pip install wandb\n",
        "output.clear()\n",
        "import wandb\n",
        "from pathlib import Path\n",
        "wandb_drive_netrc_path = Path(\"drive/My Drive/colab/.netrc\")\n",
        "wandb_local_netrc_path = Path(\"/root/.netrc\")\n",
        "if wandb_drive_netrc_path.exists():\n",
        "    import shutil\n",
        "\n",
        "    print(\"Wandb .netrc file found, will use that to log in.\")\n",
        "    shutil.copy(wandb_drive_netrc_path, wandb_local_netrc_path)\n",
        "else:\n",
        "    print(\n",
        "        f\"Wandb config not found at {wandb_drive_netrc_path}.\\n\"\n",
        "        f\"Using manual login.\\n\\n\"\n",
        "        f\"To use auto login in the future, finish the manual login first and then run:\\n\\n\"\n",
        "        f\"\\t!mkdir -p '{wandb_drive_netrc_path.parent}'\\n\"\n",
        "        f\"\\t!cp {wandb_local_netrc_path} '{wandb_drive_netrc_path}'\\n\\n\"\n",
        "        f\"Then that file will be used to login next time.\\n\"\n",
        "    )\n",
        "\n",
        "!wandb login\n",
        "output.clear()\n",
        "print(\"ok!\")"
      ],
      "execution_count": null,
      "outputs": []
    },
    {
      "cell_type": "markdown",
      "metadata": {
        "id": "ebxxv9zGTic1"
      },
      "source": [
        "# Description\n"
      ]
    },
    {
      "cell_type": "code",
      "metadata": {
        "id": "BVjGm8m_q9R6",
        "cellView": "form"
      },
      "source": [
        "#@title Configuration\n",
        "\n",
        "#@markdown Directories can be found via file explorer on the left by navigating into `drive` to the desired folders. \n",
        "#@markdown Then right-click and `Copy path`.\n",
        "\n",
        "#@markdown Load Model\n",
        "#@markdown - option1: set wandb run id of logged run to resume from there\n",
        "resume_id = \"1dsg4dbq\" #@param {type:\"string\"}\n",
        "#@markdown - option2: load checkpoint pkl file from the path\n",
        "ckpt_file = \"\" #@param {type:\"string\"}\n",
        "\n",
        "#@markdown Generate script option\n",
        "#@markdown - Truncation psi \n",
        "latent = True #@param {type:\"boolean\"}\n",
        "#@markdown - List of random seeds \n",
        "seeds = \"1,5\" #@param {type:\"string\"}\n",
        "#@markdown - Truncation psi \n",
        "truncation_psi = 1 #@param {type:\"number\"}\n",
        "#@markdown - number of samples per seed \n",
        "frames =  10#@param {type:\"integer\"}\n",
        "#@markdown - Class label (unconditional if not specified)\n",
        "class_idx = 0 #@param {type:\"integer\"}\n",
        "#@markdown - Noise mode\n",
        "noise_mode = \"const\" #@param [\"const\", \"random\", \"none\"]\n",
        "#@markdown - The output directory of experiment data \n",
        "out_dir = \"/content/drive/My Drive/IRCMS_GAN_collaborative_database/Experiments/colab-stylegan2\" #@param {type:\"string\"}\n",
        "\n",
        "\n",
        "if not ckpt_file and not resume_id:\n",
        "    raise Exception(\"set one of ckpt_file or resume_id to load model.\")"
      ],
      "execution_count": null,
      "outputs": []
    },
    {
      "cell_type": "code",
      "metadata": {
        "id": "pBbbEqNZxngL",
        "cellView": "form"
      },
      "source": [
        "#@title Clone stylegan2 repo\n",
        "\n",
        "!git clone https://github.com/buganart/stylegan2-ada-pytorch"
      ],
      "execution_count": null,
      "outputs": []
    },
    {
      "cell_type": "code",
      "metadata": {
        "id": "p1AnyVoom4td",
        "cellView": "form"
      },
      "source": [
        "#@title Install Dependencies\n",
        "\n",
        "%cd /content/stylegan2-ada-pytorch\n",
        "# %pip install -r requirements.txt\n",
        "%pip install wandb\n",
        "%pip install ninja\n",
        "%pip install pyspng\n",
        "clear_on_success(\"Dependencies installed.\")"
      ],
      "execution_count": null,
      "outputs": []
    },
    {
      "cell_type": "code",
      "metadata": {
        "id": "yhpa_QpwocrO",
        "cellView": "form"
      },
      "source": [
        "#@title preprocess argument\n",
        "out_dir = Path(out_dir)\n",
        "out_dir.mkdir(parents=True, exist_ok=True)\n",
        "\n",
        "\n",
        "run_dir = Path(\"tmp/run\")\n",
        "run_dir.mkdir(parents=True, exist_ok=True)\n",
        "\n",
        "\n",
        "if resume_id:\n",
        "    run = wandb.init(\n",
        "            project=\"stylegan2\",\n",
        "            id=resume_id,\n",
        "            entity=\"bugan\",\n",
        "            resume=\"allow\",\n",
        "            dir=run_dir,\n",
        "            mode=\"offline\",\n",
        "        )\n",
        "    model = wandb.restore(\"model.pkl\")\n",
        "    ckpt_file = model.name\n",
        "\n",
        "clear_on_success(\"ok\")\n",
        "\n",
        "\n",
        "print(\"out_dir\", out_dir)\n",
        "print(\"ckpt_file\", ckpt_file)"
      ],
      "execution_count": null,
      "outputs": []
    },
    {
      "cell_type": "code",
      "metadata": {
        "id": "UsD5T5GpolG0",
        "cellView": "form"
      },
      "source": [
        "#@title GENERATE\n",
        "\n",
        "!python generate.py \\\n",
        "--outdir \"$out_dir\" \\\n",
        "--network \"$ckpt_file\" \\\n",
        "--latent \"$latent\" \\\n",
        "--frames \"$frames\" \\\n",
        "--seeds \"$seeds\" \\\n",
        "--trunc \"$truncation_psi\" \\\n",
        "--class \"$class_idx\" \\\n",
        "--noise-mode \"$noise_mode\"\n",
        " "
      ],
      "execution_count": null,
      "outputs": []
    }
  ]
}