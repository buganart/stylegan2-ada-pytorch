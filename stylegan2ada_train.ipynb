{
  "nbformat": 4,
  "nbformat_minor": 0,
  "metadata": {
    "accelerator": "GPU",
    "colab": {
      "name": "stylegan2ada_train.ipynb",
      "provenance": [],
      "collapsed_sections": [],
      "machine_shape": "hm",
      "include_colab_link": true
    },
    "kernelspec": {
      "display_name": "Python 3",
      "name": "python3"
    }
  },
  "cells": [
    {
      "cell_type": "markdown",
      "metadata": {
        "id": "view-in-github",
        "colab_type": "text"
      },
      "source": [
        "<a href=\"https://colab.research.google.com/github/buganart/stylegan2-ada-pytorch/blob/main/stylegan2ada_train.ipynb\" target=\"_parent\"><img src=\"https://colab.research.google.com/assets/colab-badge.svg\" alt=\"Open In Colab\"/></a>"
      ]
    },
    {
      "cell_type": "code",
      "metadata": {
        "id": "jbp-CL5ijb4e",
        "cellView": "form"
      },
      "source": [
        "#@markdown Before starting please save the notebook in your drive by clicking on `File -> Save a copy in drive`"
      ],
      "execution_count": null,
      "outputs": []
    },
    {
      "cell_type": "code",
      "metadata": {
        "id": "XQ-pH7tyK9xW",
        "cellView": "form"
      },
      "source": [
        "#@markdown Check GPU, should be a Tesla V100\n",
        "!nvidia-smi -L\n",
        "import os\n",
        "print(f\"We have {os.cpu_count()} CPU cores.\")"
      ],
      "execution_count": null,
      "outputs": []
    },
    {
      "cell_type": "code",
      "metadata": {
        "id": "BJyxzcLOhgWY",
        "cellView": "form"
      },
      "source": [
        "#@markdown Mount google drive\n",
        "from google.colab import drive\n",
        "from google.colab import output\n",
        "drive.mount('/content/drive')\n",
        "\n",
        "from pathlib import Path\n",
        "if not Path(\"/content/drive/My Drive/IRCMS_GAN_collaborative_database\").exists():\n",
        "    raise RuntimeError(\n",
        "        \"Shortcut to our shared drive folder doesn't exits.\\n\\n\"\n",
        "        \"\\t1. Go to the google drive web UI\\n\"\n",
        "        \"\\t2. Right click shared folder IRCMS_GAN_collaborative_database and click \\\"Add shortcut to Drive\\\"\"\n",
        "    )\n",
        "\n",
        "def clear_on_success(msg=\"Ok!\"):\n",
        "    if _exit_code == 0:\n",
        "        output.clear()\n",
        "        print(msg)"
      ],
      "execution_count": null,
      "outputs": []
    },
    {
      "cell_type": "code",
      "metadata": {
        "cellView": "form",
        "id": "9-L3BlfGTfbJ"
      },
      "source": [
        "#@markdown Install wandb and log in\n",
        "%pip install wandb\n",
        "output.clear()\n",
        "import wandb\n",
        "from pathlib import Path\n",
        "wandb_drive_netrc_path = Path(\"drive/My Drive/colab/.netrc\")\n",
        "wandb_local_netrc_path = Path(\"/root/.netrc\")\n",
        "if wandb_drive_netrc_path.exists():\n",
        "    import shutil\n",
        "\n",
        "    print(\"Wandb .netrc file found, will use that to log in.\")\n",
        "    shutil.copy(wandb_drive_netrc_path, wandb_local_netrc_path)\n",
        "else:\n",
        "    print(\n",
        "        f\"Wandb config not found at {wandb_drive_netrc_path}.\\n\"\n",
        "        f\"Using manual login.\\n\\n\"\n",
        "        f\"To use auto login in the future, finish the manual login first and then run:\\n\\n\"\n",
        "        f\"\\t!mkdir -p '{wandb_drive_netrc_path.parent}'\\n\"\n",
        "        f\"\\t!cp {wandb_local_netrc_path} '{wandb_drive_netrc_path}'\\n\\n\"\n",
        "        f\"Then that file will be used to login next time.\\n\"\n",
        "    )\n",
        "\n",
        "!wandb login\n",
        "output.clear()\n",
        "print(\"ok!\")"
      ],
      "execution_count": null,
      "outputs": []
    },
    {
      "cell_type": "markdown",
      "metadata": {
        "id": "ebxxv9zGTic1"
      },
      "source": [
        "# Description\n"
      ]
    },
    {
      "cell_type": "code",
      "metadata": {
        "id": "BVjGm8m_q9R6",
        "cellView": "form"
      },
      "source": [
        "#@title Configuration\n",
        "\n",
        "#@markdown Directories can be found via file explorer on the left by navigating into `drive` to the desired folders. \n",
        "#@markdown Then right-click and `Copy path`.\n",
        "#@markdown - The database directory\n",
        "database_dir = \"/content/drive/My Drive/IRCMS_GAN_collaborative_database/Experiments/Google_Street_View\" #@param {type:\"string\"}\n",
        "# experiment_dir = \"/content/drive/My Drive/IRCMS_GAN_collaborative_database/Experiments/colab-violingan/melgan\" #@param {type:\"string\"}\n",
        "#@markdown - The output directory of experiment data \n",
        "out_dir = \"/content/drive/My Drive/IRCMS_GAN_collaborative_database/Experiments/colab-stylegan2\" #@param {type:\"string\"}\n",
        "#@markdown - set wandb run id of logged run to resume from there\n",
        "resume_id = \"\" #@param {type:\"string\"}\n",
        "#@markdown - If the data is still not being processed, this defines the size of processed image.\n",
        "resolution = \"1024\" #@param {type:\"string\"}"
      ],
      "execution_count": null,
      "outputs": []
    },
    {
      "cell_type": "code",
      "metadata": {
        "id": "pBbbEqNZxngL",
        "cellView": "form"
      },
      "source": [
        "#@title Clone stylegan2 repo\n",
        "\n",
        "!git clone https://github.com/buganart/stylegan2-ada-pytorch"
      ],
      "execution_count": null,
      "outputs": []
    },
    {
      "cell_type": "code",
      "metadata": {
        "id": "p1AnyVoom4td",
        "cellView": "form"
      },
      "source": [
        "#@title Install Dependencies\n",
        "\n",
        "%cd /content/stylegan2-ada-pytorch\n",
        "# %pip install -r requirements.txt\n",
        "%pip install wandb\n",
        "%pip install ninja\n",
        "%pip install pyspng\n",
        "clear_on_success(\"Dependencies installed.\")"
      ],
      "execution_count": null,
      "outputs": []
    },
    {
      "cell_type": "code",
      "metadata": {
        "id": "yhpa_QpwocrO",
        "cellView": "form"
      },
      "source": [
        "#@title pre-process data \n",
        "print(database_dir)\n",
        "database_dir = Path(database_dir)\n",
        "out_dir = Path(out_dir)\n",
        "out_dir.mkdir(parents=True, exist_ok=True)\n",
        "\n",
        "if database_dir.is_file() and database_dir.suffix == \".zip\":\n",
        "    datazip_dir = database_dir\n",
        "elif database_dir.is_dir():\n",
        "    zipfile = sorted(database_dir.rglob(f\"*_{resolution}.zip\"))\n",
        "    # pick any zipfile in the directory\n",
        "    if len(zipfile) > 0 :\n",
        "        datazip_dir = zipfile[0]\n",
        "    else:\n",
        "        print(database_dir)\n",
        "        # process data\n",
        "        unpack_data = Path(\"/tmp/unpack\")\n",
        "        unpack_data.mkdir(parents=True, exist_ok=True)\n",
        "        # copy files to tmp dir for processing\n",
        "        !find \"{database_dir}\" -maxdepth 1 -type f | xargs -t -d \"\\n\" -I'%%' -P 10 -n 1 rsync -a '%%' \"$unpack_data\"/\n",
        "\n",
        "        # process data\n",
        "        target_zipfile = database_dir / f\"data_{resolution}.zip\"\n",
        "        !python dataset_tool.py --source=\"{unpack_data}\" --dest=\"{target_zipfile}\" --width=\"{resolution}\" --height=\"{resolution}\"\n",
        "        datazip_dir = target_zipfile\n",
        "else:\n",
        "    raise Exception(\"database_dir is invalid.\")\n",
        "# clear_on_success(\"All files copied to this runtime.\")\n"
      ],
      "execution_count": null,
      "outputs": []
    },
    {
      "cell_type": "code",
      "metadata": {
        "id": "UsD5T5GpolG0",
        "cellView": "form"
      },
      "source": [
        "#@title TRAIN\n",
        "# os.environ[\"WANDB_MODE\"] = \"dryrun\"\n",
        "\n",
        "# unzip files to local tmp folder\n",
        "unzip_dataset_dir = Path(\"/tmp/data\")\n",
        "unzip_dataset_dir.mkdir(parents=True, exist_ok=True)\n",
        "!unzip \"{datazip_dir}\" -d \"{unzip_dataset_dir}\"\n",
        "\n",
        "\n",
        "!python train.py \\\n",
        "--outdir \"$out_dir\" \\\n",
        "--data \"$unzip_dataset_dir\" \\\n",
        "--resume \"$resume_id\""
      ],
      "execution_count": null,
      "outputs": []
    }
  ]
}